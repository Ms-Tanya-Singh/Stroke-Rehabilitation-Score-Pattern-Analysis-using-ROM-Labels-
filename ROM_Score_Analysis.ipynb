{
 "cells": [
  {
   "cell_type": "markdown",
   "id": "968d777c",
   "metadata": {},
   "source": [
    "# Score Pattern Analysis by ROM Classification\n",
    "\n",
    "## Objective\n",
    "This notebook explores how rehabilitation scores (proxied using `score` values from the dataset) vary across patients classified by ROM (Range of Motion) severity: **High**, **Low**, or **No** ROM.\n",
    "\n",
    "Key tasks include:\n",
    "- Visualizing score distributions by ROM class\n",
    "- Removing outliers to ensure interpretability\n",
    "- Preparing code suitable for clinical insight or research presentation\n"
   ]
  },
  {
   "cell_type": "code",
   "execution_count": null,
   "id": "7b014791",
   "metadata": {},
   "outputs": [],
   "source": [
    "import pandas as pd\n",
    "\n",
    "# Load the dataset\n",
    "df = pd.read_csv(\"user_data_with_label.txt\", sep=\"|\", engine=\"python\")\n",
    "df = df.loc[:, ~df.columns.str.contains('^Unnamed')]\n",
    "df.head()\n"
   ]
  },
  {
   "cell_type": "code",
   "execution_count": null,
   "id": "45bbc64b",
   "metadata": {},
   "outputs": [],
   "source": [
    "import matplotlib.pyplot as plt\n",
    "import seaborn as sns\n",
    "\n",
    "# Drop missing values\n",
    "df = df.dropna(subset=[\"score\", \"Classification\"])\n",
    "\n",
    "# Clip outliers at the 99th percentile\n",
    "score_threshold = df[\"score\"].quantile(0.99)\n",
    "df_clipped = df[df[\"score\"] <= score_threshold]\n"
   ]
  },
  {
   "cell_type": "code",
   "execution_count": null,
   "id": "1a2b0c9b",
   "metadata": {},
   "outputs": [],
   "source": [
    "# Plot score distribution by ROM classification\n",
    "plt.figure(figsize=(10, 6))\n",
    "sns.histplot(data=df_clipped, x=\"score\", hue=\"Classification\", element=\"step\", stat=\"count\", common_norm=False)\n",
    "plt.title(\"Score Distribution by ROM Classification (Clipped at 99th Percentile)\")\n",
    "plt.xlabel(\"Score\")\n",
    "plt.ylabel(\"Frequency\")\n",
    "plt.grid(True)\n",
    "plt.tight_layout()\n",
    "plt.show()\n"
   ]
  }
 ],
 "metadata": {},
 "nbformat": 4,
 "nbformat_minor": 5
}